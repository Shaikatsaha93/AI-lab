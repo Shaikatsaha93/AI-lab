{
 "cells": [
  {
   "cell_type": "code",
   "execution_count": 10,
   "metadata": {},
   "outputs": [
    {
     "data": {
      "text/plain": [
       "array([[15,  3,  2,  5],\n",
       "       [ 5, 14,  2,  4],\n",
       "       [ 2,  2, 19,  2],\n",
       "       [ 4,  4,  0, 17]], dtype=int64)"
      ]
     },
     "execution_count": 10,
     "metadata": {},
     "output_type": "execute_result"
    }
   ],
   "source": [
    "import numpy as np\n",
    "import matplotlib.pyplot as plt\n",
    "from sklearn.metrics import confusion_matrix\n",
    "y_true = [\"hook\", \"hook\", \"hook\", \"hook\", \"hook\", \"hook\", \"hook\", \"hook\", \"hook\", \"hook\", \"hook\", \"hook\", \"hook\", \"hook\", \"hook\", \"hook\", \"hook\", \"hook\", \"hook\", \"hook\", \"hook\", \"hook\", \"hook\", \"hook\", \"hook\", \"jab\", \"jab\", \"jab\", \"jab\", \"jab\", \"jab\", \"jab\", \"jab\", \"jab\", \"jab\", \"jab\", \"jab\", \"jab\", \"jab\", \"jab\", \"jab\", \"jab\", \"jab\", \"jab\",  \"jab\", \"jab\", \"jab\", \"jab\", \"jab\", \"jab\", \"kick\", \"kick\", \"kick\", \"kick\", \"kick\", \"kick\", \"kick\", \"kick\", \"kick\", \"kick\", \"kick\", \"kick\", \"kick\", \"kick\", \"kick\", \"kick\", \"kick\", \"kick\", \"kick\", \"kick\", \"kick\", \"kick\", \"kick\", \"kick\", \"kick\", \"uppercut\", \"uppercut\", \"uppercut\", \"uppercut\", \"uppercut\", \"uppercut\", \"uppercut\", \"uppercut\", \"uppercut\", \"uppercut\", \"uppercut\", \"uppercut\", \"uppercut\", \"uppercut\", \"uppercut\", \"uppercut\", \"uppercut\", \"uppercut\", \"uppercut\", \"uppercut\", \"uppercut\", \"uppercut\", \"uppercut\", \"uppercut\", \"uppercut\"]\n",
    "y_pred = [\"jab\",\"hook\",\"hook\",\"hook\",\"hook\",\"hook\",\"uppercut\",\"hook\",\"hook\",\"uppercut\",\"hook\",\"hook\",\"hook\",\"hook\",\"uppercut\",\"kick\",\"hook\",\"hook\",\"uppercut\",\"hook\",\"hook\",\"kick\",\"jab\",\"uppercut\",\"jab\",\"kick\", \"kick\", \"jab\", \"jab\", \"hook\", \"jab\", \"jab\", \"jab\", \"jab\", \"jab\", \"jab\", \"hook\", \"jab\", \"hook\", \"jab\", \"uppercut\", \"jab\", \"hook\", \"uppercut\", \"hook\", \"jab\", \"jab\", \"jab\", \"uppercut\", \"uppercut\", \"kick\", \"kick\", \"kick\", \"hook\", \"kick\", \"kick\", \"jab\", \"uppercut\", \"kick\", \"kick\", \"kick\", \"kick\", \"kick\", \"kick\", \"uppercut\", \"kick\", \"kick\", \"kick\", \"kick\", \"kick\", \"kick\", \"kick\", \"hook\", \"kick\", \"jab\", \"jab\", \"hook\", \"uppercut\", \"uppercut\", \"hook\", \"uppercut\", \"uppercut\", \"uppercut\", \"hook\", \"uppercut\", \"uppercut\", \"jab\", \"hook\", \"uppercut\", \"uppercut\", \"uppercut\", \"uppercut\", \"uppercut\", \"uppercut\", \"uppercut\", \"uppercut\", \"jab\", \"jab\", \"uppercut\", \"uppercut\"]\n",
    "confusion_matrix(y_true, y_pred)"
   ]
  },
  {
   "cell_type": "code",
   "execution_count": 11,
   "metadata": {},
   "outputs": [
    {
     "data": {
      "text/plain": [
       "0.65000000000000002"
      ]
     },
     "execution_count": 11,
     "metadata": {},
     "output_type": "execute_result"
    }
   ],
   "source": [
    "from sklearn.metrics import accuracy_score\n",
    "accuracy_score(y_true, y_pred)"
   ]
  },
  {
   "cell_type": "code",
   "execution_count": 12,
   "metadata": {},
   "outputs": [
    {
     "name": "stdout",
     "output_type": "stream",
     "text": [
      "             precision    recall  f1-score   support\n",
      "\n",
      "       hook       0.58      0.60      0.59        25\n",
      "        jab       0.61      0.56      0.58        25\n",
      "       kick       0.83      0.76      0.79        25\n",
      "   uppercut       0.61      0.68      0.64        25\n",
      "\n",
      "avg / total       0.65      0.65      0.65       100\n",
      "\n"
     ]
    }
   ],
   "source": [
    "from sklearn.metrics import classification_report\n",
    "print(classification_report(y_true, y_pred))"
   ]
  },
  {
   "cell_type": "code",
   "execution_count": 13,
   "metadata": {
    "collapsed": true
   },
   "outputs": [],
   "source": [
    "import matplotlib.pyplot as plt\n",
    "import numpy as np"
   ]
  },
  {
   "cell_type": "code",
   "execution_count": 18,
   "metadata": {
    "collapsed": true
   },
   "outputs": [],
   "source": [
    "m=    [[15,  3,  2,  5],\n",
    "       [ 5, 14,  2,  4],\n",
    "       [ 2,  2, 19,  2],\n",
    "       [ 4,  4,  0, 17]]"
   ]
  },
  {
   "cell_type": "code",
   "execution_count": 19,
   "metadata": {},
   "outputs": [
    {
     "data": {
      "image/png": "[encoded data removed]",
      "text/plain": [
       "<matplotlib.figure.Figure at 0x21bde0918d0>"
      ]
     },
     "metadata": {},
     "output_type": "display_data"
    }
   ],
   "source": [
    "plt.matshow(m)\n",
    "plt.show()"
   ]
  },
  {
   "cell_type": "code",
   "execution_count": null,
   "metadata": {
    "collapsed": true
   },
   "outputs": [],
   "source": []
  }
 ],
 "metadata": {
  "kernelspec": {
   "display_name": "Python 3",
   "language": "python",
   "name": "python3"
  },
  "language_info": {
   "codemirror_mode": {
    "name": "ipython",
    "version": 3
   },
   "file_extension": ".py",
   "mimetype": "text/x-python",
   "name": "python",
   "nbconvert_exporter": "python",
   "pygments_lexer": "ipython3",
   "version": "3.6.3"
  }
 },
 "nbformat": 4,
 "nbformat_minor": 2
}
