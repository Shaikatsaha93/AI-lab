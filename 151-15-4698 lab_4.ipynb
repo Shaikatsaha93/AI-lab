{
 "cells": [
  {
   "cell_type": "code",
   "execution_count": 7,
   "metadata": {},
   "outputs": [
    {
     "data": {
      "text/plain": [
       "1.0"
      ]
     },
     "execution_count": 7,
     "metadata": {},
     "output_type": "execute_result"
    }
   ],
   "source": [
    "#import libraries\n",
    "import pandas as pd\n",
    "import numpy as np\n",
    "from sklearn.model_selection import train_test_split\n",
    "from scipy.spatial import distance\n",
    "from sklearn.metrics import accuracy_score\n",
    "from sklearn.neighbors import KNeighborsClassifier\n",
    "\n",
    "#read data file as dataframe\n",
    "data = pd.read_csv('iris.csv')\n",
    "\n",
    "#take four numeric features as X input\n",
    "X = data.values[:, :4]\n",
    "\n",
    "#create an array of length 150 named y\n",
    "y = np.zeros(150)\n",
    "\n",
    "#encoding classes to numbers\n",
    "for i in range(len(y)):\n",
    "    if data.values[i, 4]=='setosa':\n",
    "        y[i] = 0\n",
    "    elif data.values[i, 4]=='versicolor':\n",
    "        y[i] = 1\n",
    "    elif data.values[i, 4]=='virginica':\n",
    "        y[i] = 2\n",
    "\n",
    "#randomly shuffle the whole dataset and create train-test partition\n",
    "X_train, X_test, y_train, y_test = train_test_split(X, y, test_size=0.33, random_state=42)\n",
    "\n",
    "d = distance.cdist(X_test,X_train,'euclidean')\n",
    "#print(d.shape)\n",
    "\n",
    "\n",
    "for i in range (50):\n",
    "    yy=np.argsort(d,axis=1)\n",
    "#print(y)\n",
    "\n",
    "k=int(11)\n",
    "j=int(0)\n",
    "y_pre=[]\n",
    "for j in range(0,50):\n",
    "    yyy = np.zeros(3)\n",
    "    for i in range (0,k):\n",
    "        ind=int(yy[j][i])\n",
    "        val=int(y_train[ind])\n",
    "        yyy[val]+=1\n",
    "    #print(np.argmax(yyy, axis=0))\n",
    "    y_pre.append(np.argmax(yyy, axis=0))\n",
    "\n",
    "#print(y_pre)    \n",
    "accuracy_score(y_test, y_pre)"
   ]
  },
  {
   "cell_type": "code",
   "execution_count": null,
   "metadata": {},
   "outputs": [],
   "source": []
  }
 ],
 "metadata": {
  "kernelspec": {
   "display_name": "Python 3",
   "language": "python",
   "name": "python3"
  },
  "language_info": {
   "codemirror_mode": {
    "name": "ipython",
    "version": 3
   },
   "file_extension": ".py",
   "mimetype": "text/x-python",
   "name": "python",
   "nbconvert_exporter": "python",
   "pygments_lexer": "ipython3",
   "version": "3.6.4"
  }
 },
 "nbformat": 4,
 "nbformat_minor": 2
}
