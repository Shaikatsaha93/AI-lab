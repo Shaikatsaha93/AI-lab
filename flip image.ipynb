{
 "cells": [
  {
   "cell_type": "code",
   "execution_count": 2,
   "metadata": {
    "collapsed": true
   },
   "outputs": [],
   "source": [
    "import numpy as np\n",
    "import cv2"
   ]
  },
  {
   "cell_type": "code",
   "execution_count": 110,
   "metadata": {},
   "outputs": [],
   "source": [
    "img=cv2.imread('hook resize/hooka (106).jpg')\n",
    "#rimg=img.copy()\n",
    "#fimg=img.copy()\n",
    "rimg=cv2.flip(img,1)\n",
    "#fimg=cv2.flip(img,0)\n",
    "#cv2.imshow(\"Original\", img)\n",
    "#cv2.imshow(\"vertical flip\", rimg)\n",
    "#cv2.imshow(\"horizontal flip\", fimg)\n",
    "cv2.imwrite('hook flip/hooka (105)_flip.jpg',rimg)\n",
    "cv2.waitKey(0)\n",
    "cv2.destroyAllWindows()"
   ]
  },
  {
   "cell_type": "markdown",
   "metadata": {
    "collapsed": true
   },
   "source": [
    "##### "
   ]
  }
 ],
 "metadata": {
  "kernelspec": {
   "display_name": "Python 3",
   "language": "python",
   "name": "python3"
  },
  "language_info": {
   "codemirror_mode": {
    "name": "ipython",
    "version": 3
   },
   "file_extension": ".py",
   "mimetype": "text/x-python",
   "name": "python",
   "nbconvert_exporter": "python",
   "pygments_lexer": "ipython3",
   "version": "3.6.3"
  }
 },
 "nbformat": 4,
 "nbformat_minor": 2
}
