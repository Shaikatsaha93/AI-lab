{
 "cells": [
  {
   "cell_type": "code",
   "execution_count": 8,
   "metadata": {
    "collapsed": true
   },
   "outputs": [],
   "source": [
    "import numpy as pd"
   ]
  },
  {
   "cell_type": "code",
   "execution_count": 13,
   "metadata": {},
   "outputs": [
    {
     "data": {
      "text/plain": [
       "array([[15,  7,  1,  2],\n",
       "       [ 9, 13,  0,  3],\n",
       "       [ 2,  3, 15,  5],\n",
       "       [ 9,  2,  0, 14]], dtype=int64)"
      ]
     },
     "execution_count": 13,
     "metadata": {},
     "output_type": "execute_result"
    }
   ],
   "source": [
    "from sklearn.metrics import confusion_matrix\n",
    "y_true = [\"hook\", \"hook\", \"hook\", \"hook\", \"hook\", \"hook\", \"hook\", \"hook\", \"hook\", \"hook\", \"hook\", \"hook\", \"hook\", \"hook\", \"hook\", \"hook\", \"hook\", \"hook\", \"hook\", \"hook\", \"hook\", \"hook\", \"hook\", \"hook\", \"hook\", \"jab\", \"jab\", \"jab\", \"jab\", \"jab\", \"jab\", \"jab\", \"jab\", \"jab\", \"jab\", \"jab\", \"jab\", \"jab\", \"jab\", \"jab\", \"jab\", \"jab\", \"jab\", \"jab\",  \"jab\", \"jab\", \"jab\", \"jab\", \"jab\", \"jab\", \"kick\", \"kick\", \"kick\", \"kick\", \"kick\", \"kick\", \"kick\", \"kick\", \"kick\", \"kick\", \"kick\", \"kick\", \"kick\", \"kick\", \"kick\", \"kick\", \"kick\", \"kick\", \"kick\", \"kick\", \"kick\", \"kick\", \"kick\", \"kick\", \"kick\", \"uppercut\", \"uppercut\", \"uppercut\", \"uppercut\", \"uppercut\", \"uppercut\", \"uppercut\", \"uppercut\", \"uppercut\", \"uppercut\", \"uppercut\", \"uppercut\", \"uppercut\", \"uppercut\", \"uppercut\", \"uppercut\", \"uppercut\", \"uppercut\", \"uppercut\", \"uppercut\", \"uppercut\", \"uppercut\", \"uppercut\", \"uppercut\", \"uppercut\"]\n",
    "y_pred = [\"jab\", \"hook\", \"hook\", \"hook\", \"hook\", \"hook\", \"jab\", \"hook\", \"hook\", \"jab\", \"hook\", \"hook\", \"hook\", \"jab\", \"jab\", \"jab\", \"hook\", \"hook\", \"hook\", \"hook\", \"uppercut\", \"kick\", \"jab\", \"uppercut\", \"hook\", \"uppercut\", \"jab\", \"jab\", \"jab\", \"hook\", \"uppercut\", \"hook\", \"hook\", \"hook\", \"jab\", \"jab\", \"hook\", \"jab\", \"hook\", \"hook\", \"jab\", \"jab\", \"hook\", \"jab\",  \"jab\", \"hook\", \"jab\", \"jab\", \"uppercut\", \"jab\", \"kick\", \"jab\", \"uppercut\", \"hook\", \"kick\", \"jab\", \"kick\", \"uppercut\", \"uppercut\", \"kick\", \"kick\", \"kick\", \"kick\", \"kick\", \"uppercut\", \"kick\", \"kick\", \"kick\", \"kick\", \"kick\", \"kick\", \"kick\", \"uppercut\", \"hook\", \"jab\", \"hook\", \"hook\", \"uppercut\", \"hook\", \"uppercut\", \"hook\", \"uppercut\", \"hook\", \"uppercut\", \"uppercut\", \"jab\", \"hook\", \"uppercut\", \"uppercut\", \"uppercut\", \"uppercut\", \"uppercut\", \"uppercut\", \"uppercut\", \"uppercut\", \"uppercut\", \"hook\", \"hook\", \"jab\", \"hook\"]\n",
    "confusion_matrix(y_true, y_pred, labels=[\"hook\", \"jab\", \"kick\", \"uppercut\"])"
   ]
  },
  {
   "cell_type": "code",
   "execution_count": 9,
   "metadata": {},
   "outputs": [
    {
     "ename": "NameError",
     "evalue": "name 'columns' is not defined",
     "output_type": "error",
     "traceback": [
      "\u001b[1;31m---------------------------------------------------------------------------\u001b[0m",
      "\u001b[1;31mNameError\u001b[0m                                 Traceback (most recent call last)",
      "\u001b[1;32m<ipython-input-9-6c6743cdf63b>\u001b[0m in \u001b[0;36m<module>\u001b[1;34m()\u001b[0m\n\u001b[1;32m----> 1\u001b[1;33m \u001b[0mcolumns\u001b[0m\u001b[1;33m\u001b[0m\u001b[0m\n\u001b[0m",
      "\u001b[1;31mNameError\u001b[0m: name 'columns' is not defined"
     ]
    }
   ],
   "source": []
  },
  {
   "cell_type": "code",
   "execution_count": 7,
   "metadata": {},
   "outputs": [
    {
     "data": {
      "text/plain": [
       "array([[15,  7,  1,  2],\n",
       "       [ 9, 13,  0,  3],\n",
       "       [ 2,  3, 15,  5],\n",
       "       [ 9,  2,  0, 14]], dtype=int64)"
      ]
     },
     "execution_count": 7,
     "metadata": {},
     "output_type": "execute_result"
    }
   ],
   "source": [
    "from sklearn.metrics import confusion_matrix\n",
    "y_true = [\"hook\", \"hook\", \"hook\", \"hook\", \"hook\", \"hook\", \"hook\", \"hook\", \"hook\", \"hook\", \"hook\", \"hook\", \"hook\", \"hook\", \"hook\", \"hook\", \"hook\", \"hook\", \"hook\", \"hook\", \"hook\", \"hook\", \"hook\", \"hook\", \"hook\", \"jab\", \"jab\", \"jab\", \"jab\", \"jab\", \"jab\", \"jab\", \"jab\", \"jab\", \"jab\", \"jab\", \"jab\", \"jab\", \"jab\", \"jab\", \"jab\", \"jab\", \"jab\", \"jab\",  \"jab\", \"jab\", \"jab\", \"jab\", \"jab\", \"jab\", \"kick\", \"kick\", \"kick\", \"kick\", \"kick\", \"kick\", \"kick\", \"kick\", \"kick\", \"kick\", \"kick\", \"kick\", \"kick\", \"kick\", \"kick\", \"kick\", \"kick\", \"kick\", \"kick\", \"kick\", \"kick\", \"kick\", \"kick\", \"kick\", \"kick\", \"uppercut\", \"uppercut\", \"uppercut\", \"uppercut\", \"uppercut\", \"uppercut\", \"uppercut\", \"uppercut\", \"uppercut\", \"uppercut\", \"uppercut\", \"uppercut\", \"uppercut\", \"uppercut\", \"uppercut\", \"uppercut\", \"uppercut\", \"uppercut\", \"uppercut\", \"uppercut\", \"uppercut\", \"uppercut\", \"uppercut\", \"uppercut\", \"uppercut\"]\n",
    "y_pred = [\"jab\", \"hook\", \"hook\", \"hook\", \"hook\", \"hook\", \"jab\", \"hook\", \"hook\", \"jab\", \"hook\", \"hook\", \"hook\", \"jab\", \"jab\", \"jab\", \"hook\", \"hook\", \"hook\", \"hook\", \"uppercut\", \"kick\", \"jab\", \"uppercut\", \"hook\", \"uppercut\", \"jab\", \"jab\", \"jab\", \"hook\", \"uppercut\", \"hook\", \"hook\", \"hook\", \"jab\", \"jab\", \"hook\", \"jab\", \"hook\", \"hook\", \"jab\", \"jab\", \"hook\", \"jab\",  \"jab\", \"hook\", \"jab\", \"jab\", \"uppercut\", \"jab\", \"kick\", \"jab\", \"uppercut\", \"hook\", \"kick\", \"jab\", \"kick\", \"uppercut\", \"uppercut\", \"kick\", \"kick\", \"kick\", \"kick\", \"kick\", \"uppercut\", \"kick\", \"kick\", \"kick\", \"kick\", \"kick\", \"kick\", \"kick\", \"uppercut\", \"hook\", \"jab\", \"hook\", \"hook\", \"uppercut\", \"hook\", \"uppercut\", \"hook\", \"uppercut\", \"hook\", \"uppercut\", \"uppercut\", \"jab\", \"hook\", \"uppercut\", \"uppercut\", \"uppercut\", \"uppercut\", \"uppercut\", \"uppercut\", \"uppercut\", \"uppercut\", \"uppercut\", \"hook\", \"hook\", \"jab\", \"hook\"]\n",
    "confusion_matrix(y_true, y_pred)"
   ]
  },
  {
   "cell_type": "code",
   "execution_count": null,
   "metadata": {
    "collapsed": true
   },
   "outputs": [],
   "source": []
  }
 ],
 "metadata": {
  "kernelspec": {
   "display_name": "Python 3",
   "language": "python",
   "name": "python3"
  },
  "language_info": {
   "codemirror_mode": {
    "name": "ipython",
    "version": 3
   },
   "file_extension": ".py",
   "mimetype": "text/x-python",
   "name": "python",
   "nbconvert_exporter": "python",
   "pygments_lexer": "ipython3",
   "version": "3.6.3"
  }
 },
 "nbformat": 4,
 "nbformat_minor": 2
}
